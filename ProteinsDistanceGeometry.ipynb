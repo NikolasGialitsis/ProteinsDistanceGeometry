{
  "nbformat": 4,
  "nbformat_minor": 0,
  "metadata": {
    "colab": {
      "name": "ProteinsDistanceGeometry.ipynb",
      "provenance": [],
      "collapsed_sections": [],
      "toc_visible": true,
      "authorship_tag": "ABX9TyNxnFWYgV0Jkj13mDwoWsKJ",
      "include_colab_link": true
    },
    "kernelspec": {
      "name": "python3",
      "display_name": "Python 3"
    }
  },
  "cells": [
    {
      "cell_type": "markdown",
      "metadata": {
        "id": "view-in-github",
        "colab_type": "text"
      },
      "source": [
        "<a href=\"https://colab.research.google.com/github/NikolasGialitsis/ProteinsDistanceGeometry/blob/master/ProteinsDistanceGeometry.ipynb\" target=\"_parent\"><img src=\"https://colab.research.google.com/assets/colab-badge.svg\" alt=\"Open In Colab\"/></a>"
      ]
    },
    {
      "cell_type": "markdown",
      "metadata": {
        "id": "po_4-2B8-TkF",
        "colab_type": "text"
      },
      "source": [
        "## PDB coords extraction"
      ]
    },
    {
      "cell_type": "code",
      "metadata": {
        "id": "3aZht7Pd-QjV",
        "colab_type": "code",
        "outputId": "5badea4b-d558-4a39-ab50-1eb7315d6d04",
        "colab": {
          "base_uri": "https://localhost:8080/",
          "height": 262
        }
      },
      "source": [
        "Xtrain_coords = []\n",
        "model_num = 1\n",
        "molecules = ['1uwc.pdb','6fat.pdb']\n",
        "mol_array = []\n",
        "for mol in molecules:\n",
        "  print('Get coords for molecule ',mol)\n",
        "  array = []\n",
        "  with open(mol) as pdbfile:\n",
        "      for line in pdbfile:\n",
        "          #print(line)\n",
        "          if line[:5] == 'MODEL':\n",
        "            print('Parsing  Molecule '+str(model_num))\n",
        "            model_num = model_num + 1\n",
        "            mol1 = []\n",
        "          elif line[:4] == 'ATOM':\n",
        "              #print(line)\n",
        "              # Split the line\n",
        "              x_list = line[30:38]\n",
        "              y_list = line[38:46]\n",
        "              z_list = line[46:54]\n",
        "\n",
        "              x_str = ' '.join([str(elem) for elem in x_list]) \n",
        "              y_str = ' '.join([str(elem) for elem in y_list]) \n",
        "              z_str = ' '.join([str(elem) for elem in z_list]) \n",
        "              \n",
        "              x_str_no_space = x_str.replace(\" \", \"\")\n",
        "              y_str_no_space = y_str.replace(\" \", \"\")\n",
        "              z_str_no_space = z_str.replace(\" \", \"\")\n",
        "\n",
        "              x_float = float(x_str_no_space)\n",
        "              y_float = float(y_str_no_space)\n",
        "              z_float = float(z_str_no_space)\n",
        "\n",
        "              array.append((x_float,y_float,z_float))\n",
        "      mol_array.append(array)   \n",
        "      #print('x = '+str(x_float),'y = '+str(y_float), 'z = ' + str(z_float))\n"
      ],
      "execution_count": 32,
      "outputs": [
        {
          "output_type": "stream",
          "text": [
            "Get coords for molecule  1uwc.pdb\n"
          ],
          "name": "stdout"
        },
        {
          "output_type": "error",
          "ename": "FileNotFoundError",
          "evalue": "ignored",
          "traceback": [
            "\u001b[0;31m---------------------------------------------------------------------------\u001b[0m",
            "\u001b[0;31mFileNotFoundError\u001b[0m                         Traceback (most recent call last)",
            "\u001b[0;32m<ipython-input-32-b9a79f937dce>\u001b[0m in \u001b[0;36m<module>\u001b[0;34m()\u001b[0m\n\u001b[1;32m      6\u001b[0m   \u001b[0mprint\u001b[0m\u001b[0;34m(\u001b[0m\u001b[0;34m'Get coords for molecule '\u001b[0m\u001b[0;34m,\u001b[0m\u001b[0mmol\u001b[0m\u001b[0;34m)\u001b[0m\u001b[0;34m\u001b[0m\u001b[0;34m\u001b[0m\u001b[0m\n\u001b[1;32m      7\u001b[0m   \u001b[0marray\u001b[0m \u001b[0;34m=\u001b[0m \u001b[0;34m[\u001b[0m\u001b[0;34m]\u001b[0m\u001b[0;34m\u001b[0m\u001b[0;34m\u001b[0m\u001b[0m\n\u001b[0;32m----> 8\u001b[0;31m   \u001b[0;32mwith\u001b[0m \u001b[0mopen\u001b[0m\u001b[0;34m(\u001b[0m\u001b[0mmol\u001b[0m\u001b[0;34m)\u001b[0m \u001b[0;32mas\u001b[0m \u001b[0mpdbfile\u001b[0m\u001b[0;34m:\u001b[0m\u001b[0;34m\u001b[0m\u001b[0;34m\u001b[0m\u001b[0m\n\u001b[0m\u001b[1;32m      9\u001b[0m       \u001b[0;32mfor\u001b[0m \u001b[0mline\u001b[0m \u001b[0;32min\u001b[0m \u001b[0mpdbfile\u001b[0m\u001b[0;34m:\u001b[0m\u001b[0;34m\u001b[0m\u001b[0;34m\u001b[0m\u001b[0m\n\u001b[1;32m     10\u001b[0m           \u001b[0;31m#print(line)\u001b[0m\u001b[0;34m\u001b[0m\u001b[0;34m\u001b[0m\u001b[0;34m\u001b[0m\u001b[0m\n",
            "\u001b[0;31mFileNotFoundError\u001b[0m: [Errno 2] No such file or directory: '1uwc.pdb'"
          ]
        }
      ]
    },
    {
      "cell_type": "markdown",
      "metadata": {
        "id": "vXZUX6NU_Jgh",
        "colab_type": "text"
      },
      "source": [
        "## Calculate c-RMSD"
      ]
    },
    {
      "cell_type": "code",
      "metadata": {
        "id": "z1Hz4h01_G5q",
        "colab_type": "code",
        "outputId": "c268505c-22c2-4729-95b3-0d9ea6301c5d",
        "colab": {
          "base_uri": "https://localhost:8080/",
          "height": 244
        }
      },
      "source": [
        "import numpy as np\n",
        "\n",
        "\n",
        "\n",
        "def euclidean_norm_power2(a,b):\n",
        "  dim = len(a)\n",
        "  assert(dim > 0)\n",
        "  assert(dim == len(b))\n",
        "  sum_sqrts = 0\n",
        "  for d in range(dim):\n",
        "    sum_sqrts += ((a[d] - b[d])*(a[d] - b[d]))\n",
        "  assert(sum_sqrts >= 0)\n",
        "  return sum_sqrts\n",
        "\n",
        "def cRMSD(listX,listY):\n",
        "  assert(len(listX) == len(listY))\n",
        "  n = len(listX)\n",
        "  assert(n > 0)\n",
        "  sum_atoms = 0\n",
        "  for ident in range(n):\n",
        "    x = listX[ident]\n",
        "    y = listY[ident]\n",
        "    sum_atoms += euclidean_norm_power2(x,y)\n",
        "  \n",
        "  return np.sqrt(sum_atoms/n)\n",
        "\n",
        "def getCentroid(atomsList):\n",
        "  sum_atoms = []\n",
        "  n = len(atomsList)\n",
        "  dims = len(atomsList[0])\n",
        "  for dim in range(dims):\n",
        "    sum_atoms.append(np.array([atom[dim] for atom in atomsList]).sum()/n)\n",
        "  return sum_atoms\n",
        "\n",
        "def translateOrigin(atomsList):\n",
        "  centroid = getCentroid(atomsList)\n",
        "  for x in atomsList:\n",
        "    for d in range(len(x)):\n",
        "      x[d] -= centroid[d]\n",
        "\n",
        "def GetImproved_cRMSD(X,Y):\n",
        "  translateOrigin(X)\n",
        "  translateOrigin(Y)\n",
        "  XY = np.matmul(X.transpose(),Y)\n",
        "  SVD = np.linalg.svd(XY)\n",
        "\n",
        "  U = SVD[0]\n",
        "  Sigma = SVD[1]\n",
        "  V = SVD[2]\n",
        "  print('============ U ============')\n",
        "  print(U)\n",
        "  print('============ Σ ============')\n",
        "  print(Sigma)\n",
        "  print('============ V ============')\n",
        "  print(V)\n",
        "  #assert(U.shape == (3 , 3))\n",
        "  #assert(Sigma.shape == (3,))\n",
        "  #assert(V.shape == (3 , 3))\n",
        "  Q = np.matmul(U,V)\n",
        "\n",
        "  detQ = np.linalg.det(Q)\n",
        "  if detQ < 0:\n",
        "    U[2] = -U[2]\n",
        "    Q = np.matmul(U,V)\n",
        "    detQ = np.linalg.det(Q)\n",
        "    assert(detQ >= 0)\n",
        "  print('============ Q ============')\n",
        "  print(Q)\n",
        "\n",
        "  XQ = np.matmul(X,Q)\n",
        "  final = cRMSD(XQ,Y)\n",
        "  assert(final != float(\"inf\"))\n",
        "  assert(final != float(\"-inf\"))\n",
        "  assert(final >= 0)\n",
        "  return final\n",
        "\n",
        "\n",
        "print(len(mol_array[0]))\n",
        "print(len(mol_array[1]))\n",
        "out = GetImproved_cRMSD(np.array(mol_array[0]),np.array(mol_array[1]))\n",
        "print('\\n====================================\\nFINAL cRMSD SCORE = ',out)\n",
        "print('====================================')\n",
        "\n",
        "CONF.append(confA)\n",
        "CONF.append(confB)\n"
      ],
      "execution_count": 164,
      "outputs": [
        {
          "output_type": "error",
          "ename": "IndexError",
          "evalue": "ignored",
          "traceback": [
            "\u001b[0;31m---------------------------------------------------------------------------\u001b[0m",
            "\u001b[0;31mIndexError\u001b[0m                                Traceback (most recent call last)",
            "\u001b[0;32m<ipython-input-164-2dee4474bc2a>\u001b[0m in \u001b[0;36m<module>\u001b[0;34m()\u001b[0m\n\u001b[1;32m     76\u001b[0m \u001b[0;34m\u001b[0m\u001b[0m\n\u001b[1;32m     77\u001b[0m \u001b[0;34m\u001b[0m\u001b[0m\n\u001b[0;32m---> 78\u001b[0;31m \u001b[0mprint\u001b[0m\u001b[0;34m(\u001b[0m\u001b[0mlen\u001b[0m\u001b[0;34m(\u001b[0m\u001b[0mmol_array\u001b[0m\u001b[0;34m[\u001b[0m\u001b[0;36m0\u001b[0m\u001b[0;34m]\u001b[0m\u001b[0;34m)\u001b[0m\u001b[0;34m)\u001b[0m\u001b[0;34m\u001b[0m\u001b[0;34m\u001b[0m\u001b[0m\n\u001b[0m\u001b[1;32m     79\u001b[0m \u001b[0mprint\u001b[0m\u001b[0;34m(\u001b[0m\u001b[0mlen\u001b[0m\u001b[0;34m(\u001b[0m\u001b[0mmol_array\u001b[0m\u001b[0;34m[\u001b[0m\u001b[0;36m1\u001b[0m\u001b[0;34m]\u001b[0m\u001b[0;34m)\u001b[0m\u001b[0;34m)\u001b[0m\u001b[0;34m\u001b[0m\u001b[0;34m\u001b[0m\u001b[0m\n\u001b[1;32m     80\u001b[0m \u001b[0mout\u001b[0m \u001b[0;34m=\u001b[0m \u001b[0mGetImproved_cRMSD\u001b[0m\u001b[0;34m(\u001b[0m\u001b[0mnp\u001b[0m\u001b[0;34m.\u001b[0m\u001b[0marray\u001b[0m\u001b[0;34m(\u001b[0m\u001b[0mmol_array\u001b[0m\u001b[0;34m[\u001b[0m\u001b[0;36m0\u001b[0m\u001b[0;34m]\u001b[0m\u001b[0;34m)\u001b[0m\u001b[0;34m,\u001b[0m\u001b[0mnp\u001b[0m\u001b[0;34m.\u001b[0m\u001b[0marray\u001b[0m\u001b[0;34m(\u001b[0m\u001b[0mmol_array\u001b[0m\u001b[0;34m[\u001b[0m\u001b[0;36m1\u001b[0m\u001b[0;34m]\u001b[0m\u001b[0;34m)\u001b[0m\u001b[0;34m)\u001b[0m\u001b[0;34m\u001b[0m\u001b[0;34m\u001b[0m\u001b[0m\n",
            "\u001b[0;31mIndexError\u001b[0m: list index out of range"
          ]
        }
      ]
    },
    {
      "cell_type": "markdown",
      "metadata": {
        "id": "fvhCEeP1wwFa",
        "colab_type": "text"
      },
      "source": [
        "## (C) construct Cayley-Menger (border) matrix B\n",
        "Select 3 residues at the calcium binding site namely Val276-Ala277-Asp278 in the 3D\n",
        "structure of Feruloyl esterase with PDB code 6FAT. Consider only their 3 backbone atoms\n",
        "(smallest indices) namely atoms N, Ca, C of each, as points with 3D coordinates. Construct\n",
        "the corresponding Cayley-Menger (border) matrix B of dimension 10x10."
      ]
    },
    {
      "cell_type": "code",
      "metadata": {
        "id": "fIMyp9xa4GU4",
        "colab_type": "code",
        "colab": {
          "base_uri": "https://localhost:8080/",
          "height": 55
        },
        "outputId": "0ec14caa-71ee-4e83-a98b-889edc2c0ebf"
      },
      "source": [
        "with open('atom_coords.txt',mode='r',encoding='utf-8-sig') as f:\n",
        "  data = f.readlines()\n",
        "atoms = []\n",
        "for line in data:\n",
        "  x,y,z = line.split()\n",
        "  atoms.append( (float(x),float(y),float(z)))\n",
        "print(atoms)"
      ],
      "execution_count": 87,
      "outputs": [
        {
          "output_type": "stream",
          "text": [
            "[(19.456, 43.867, 53.82), (19.12, 44.932, 52.867), (19.18, 46.289, 53.576), (20.251, 47.037, 53.302), (20.462, 48.366, 53.881), (19.599, 49.411, 53.172), (18.326, 49.468, 53.563), (17.345, 50.411, 52.999), (16.733, 51.352, 54.051)]\n"
          ],
          "name": "stdout"
        }
      ]
    },
    {
      "cell_type": "code",
      "metadata": {
        "id": "FhZ2mNnNw2dr",
        "colab_type": "code",
        "colab": {
          "base_uri": "https://localhost:8080/",
          "height": 381
        },
        "outputId": "5dbe7c5b-0d1d-42b2-cf0e-5e4f1ce12d23"
      },
      "source": [
        "import numpy as np\n",
        "def BorderMatrix(atoms):\n",
        "  num_atoms = len(atoms)\n",
        "  array = -1 * np.ones(shape=(num_atoms+1,num_atoms+1))\n",
        "  #print(array)\n",
        "  for row in range(num_atoms+1):\n",
        "    for col in range(num_atoms+1):\n",
        "      if row == col:\n",
        "        array[row,col] = 0\n",
        "      elif row == 0 or col == 0:\n",
        "        array[row,col] = 1 \n",
        "      elif array[col,row] == -1:\n",
        "        p1 = atoms[row-1]\n",
        "        p2 = atoms[col-1]\n",
        "        array[row,col] =  array[col,row] = 0.5* euclidean_norm_power2(p1,p2)\n",
        "        \n",
        "  assert(array.all() >= 0)\n",
        "  return array\n",
        "\n",
        "B = BorderMatrix(atoms)\n",
        "print(B)\n"
      ],
      "execution_count": 43,
      "outputs": [
        {
          "output_type": "stream",
          "text": [
            "[[ 0.         1.         1.         1.         1.         1.\n",
            "   1.         1.         1.         1.       ]\n",
            " [ 1.         0.         1.077665   3.000898   5.4746245 10.628379\n",
            "  15.5881445 16.357075  23.977149  31.7466575]\n",
            " [ 1.         1.077665   0.         1.173865   2.9497055  7.310758\n",
            "  10.1919535 10.845074  16.593745  24.1580125]\n",
            " [ 1.         3.000898   1.173865   0.         0.8908105  3.025239\n",
            "   5.0428305  5.417763  10.345519  15.9237015]\n",
            " [ 1.         5.4746245  2.9497055  0.8908105  0.         1.0730015\n",
            "   3.03894    4.8417535  9.9602605 15.778275 ]\n",
            " [ 1.        10.628379   7.310758   3.025239   1.0730015  0.\n",
            "   1.1697375  2.939012   7.337819  11.4252685]\n",
            " [ 1.        15.5881445 10.1919535  5.0428305  3.03894    1.1697375\n",
            "   0.         0.8883295  3.0552225  6.377039 ]\n",
            " [ 1.        16.357075  10.845074   5.417763   4.8417535  2.939012\n",
            "   0.8883295  0.         1.084853   3.1626245]\n",
            " [ 1.        23.977149  16.593745  10.345519   9.9602605  7.337819\n",
            "   3.0552225  1.084853   0.         1.1833645]\n",
            " [ 1.        31.7466575 24.1580125 15.9237015 15.778275  11.4252685\n",
            "   6.377039   3.1626245  1.1833645  0.       ]]\n"
          ],
          "name": "stdout"
        }
      ]
    },
    {
      "cell_type": "markdown",
      "metadata": {
        "id": "VIgrd_jG-REx",
        "colab_type": "text"
      },
      "source": [
        "## D) Gram Matrix, SVD\n",
        " Check that rank(B)=5. Compute the Gram matrix G, and its SVD so as to get 3D point\n",
        "coordinates. Check if it is the same structure, by computing its c-RMSD to (c).\n"
      ]
    },
    {
      "cell_type": "code",
      "metadata": {
        "id": "AgqNNvTG-kfn",
        "colab_type": "code",
        "colab": {
          "base_uri": "https://localhost:8080/",
          "height": 35
        },
        "outputId": "064fa7e2-29f8-4754-d81e-fbe0bcdb78a7"
      },
      "source": [
        "rank = np.linalg.matrix_rank(B)\n",
        "print('Border Matrix Rank = ',rank)\n",
        "assert(rank==5)"
      ],
      "execution_count": 44,
      "outputs": [
        {
          "output_type": "stream",
          "text": [
            "Border Matrix Rank =  5\n"
          ],
          "name": "stdout"
        }
      ]
    },
    {
      "cell_type": "code",
      "metadata": {
        "id": "z0RHT5oD-lc6",
        "colab_type": "code",
        "colab": {
          "base_uri": "https://localhost:8080/",
          "height": 199
        },
        "outputId": "a6785199-aff0-4a5f-e63d-fa4c624d6286"
      },
      "source": [
        "import numpy as np\n",
        "def GramMatrix(atoms):\n",
        "  atoms_append = atoms.copy()\n",
        "  atoms_append.insert(0,(0,0,0))\n",
        "  atoms_append = np.array(atoms_append)\n",
        "  #atoms_append[0,:] = 0\n",
        "  G = np.dot(np.array(atoms_append),np.array(atoms_append).transpose())\n",
        "  return G\n",
        "\n",
        "G =  GramMatrix(atoms)\n",
        "print(G.round(1))\n",
        "\n"
      ],
      "execution_count": 174,
      "outputs": [
        {
          "output_type": "stream",
          "text": [
            "[[   0.     0.     0.     0.     0.     0.     0.     0.     0.     0. ]\n",
            " [   0.  5199.4 5188.3 5287.2 5326.1 5419.7 5410.5 5409.3 5401.2 5487.2]\n",
            " [   0.  5188.3 5179.4 5279.  5318.6 5412.9 5405.9 5404.8 5398.6 5484.8]\n",
            " [   0.  5287.2 5279.  5380.9 5421.4 5518.  5511.8 5511.  5505.6 5593.8]\n",
            " [   0.  5326.1 5318.6 5421.4 5463.7 5561.3 5555.2 5553.  5547.4 5635.3]\n",
            " [   0.  5419.7 5412.9 5518.  5561.3 5661.1 5655.8 5653.6 5648.7 5738.4]\n",
            " [   0.  5410.5 5405.9 5511.8 5555.2 5655.8 5652.8 5651.5 5648.9 5739.3]\n",
            " [   0.  5409.3 5404.8 5511.  5553.  5653.6 5651.5 5651.9 5650.4 5742.1]\n",
            " [   0.  5401.2 5398.6 5505.6 5547.4 5648.7 5648.9 5650.4 5651.  5743.6]\n",
            " [   0.  5487.2 5484.8 5593.8 5635.3 5738.4 5739.3 5742.1 5743.6 5838.5]]\n"
          ],
          "name": "stdout"
        }
      ]
    },
    {
      "cell_type": "markdown",
      "metadata": {
        "id": "NJEAyIbEqmlR",
        "colab_type": "text"
      },
      "source": [
        " Check if it is the same structure, by computing its c-RMSD to (c).\n"
      ]
    },
    {
      "cell_type": "code",
      "metadata": {
        "id": "srJSDr0-cUZ1",
        "colab_type": "code",
        "colab": {
          "base_uri": "https://localhost:8080/",
          "height": 54
        },
        "outputId": "8cf80a62-3c1d-4ab8-93fc-cc35511713a6"
      },
      "source": [
        "_,Sigma,V = np.linalg.svd(G)\n",
        "Sigma[3:] = 0\n",
        "Sigma = np.sqrt(Sigma)\n",
        "Sigma = np.array(Sigma)\n",
        "V = np.array(V)\n",
        "P = Sigma * V\n",
        "print('Rank of P = ',\\\n",
        "      np.linalg.matrix_rank(P))\n",
        "print(cRMSD(B,P))"
      ],
      "execution_count": 195,
      "outputs": [
        {
          "output_type": "stream",
          "text": [
            "Rank of P =  3\n",
            "73.34891211208765\n"
          ],
          "name": "stdout"
        }
      ]
    },
    {
      "cell_type": "code",
      "metadata": {
        "id": "5vXHWnRfhMuY",
        "colab_type": "code",
        "colab": {}
      },
      "source": [
        ""
      ],
      "execution_count": 0,
      "outputs": []
    }
  ]
}