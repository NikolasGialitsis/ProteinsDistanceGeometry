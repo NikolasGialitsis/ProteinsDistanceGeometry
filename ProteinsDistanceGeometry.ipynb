{
  "nbformat": 4,
  "nbformat_minor": 0,
  "metadata": {
    "colab": {
      "name": "ProteinsDistanceGeometry.ipynb",
      "provenance": [],
      "collapsed_sections": [],
      "toc_visible": true,
      "authorship_tag": "ABX9TyMQ0zG2P4GJCuY63wfr5/U3",
      "include_colab_link": true
    },
    "kernelspec": {
      "name": "python3",
      "display_name": "Python 3"
    }
  },
  "cells": [
    {
      "cell_type": "markdown",
      "metadata": {
        "id": "view-in-github",
        "colab_type": "text"
      },
      "source": [
        "<a href=\"https://colab.research.google.com/github/NikolasGialitsis/ProteinsDistanceGeometry/blob/master/ProteinsDistanceGeometry.ipynb\" target=\"_parent\"><img src=\"https://colab.research.google.com/assets/colab-badge.svg\" alt=\"Open In Colab\"/></a>"
      ]
    },
    {
      "cell_type": "markdown",
      "metadata": {
        "id": "po_4-2B8-TkF",
        "colab_type": "text"
      },
      "source": [
        "## PDB coords extraction"
      ]
    },
    {
      "cell_type": "code",
      "metadata": {
        "id": "3aZht7Pd-QjV",
        "colab_type": "code",
        "outputId": "014582e1-d500-4b9f-c969-97e3f7572f49",
        "colab": {
          "base_uri": "https://localhost:8080/",
          "height": 51
        }
      },
      "source": [
        "Xtrain_coords = []\n",
        "model_num = 1\n",
        "molecules = ['1uwc.pdb','6fat.pdb']\n",
        "mol_array = []\n",
        "for mol in molecules:\n",
        "  print('Get coords for molecule ',mol)\n",
        "  array = []\n",
        "  with open(mol) as pdbfile:\n",
        "      for line in pdbfile:\n",
        "          #print(line)\n",
        "          if line[:5] == 'MODEL':\n",
        "            print('Parsing  Molecule '+str(model_num))\n",
        "            model_num = model_num + 1\n",
        "            mol1 = []\n",
        "          elif line[:4] == 'ATOM' or line[:6] == \"HETATM\":\n",
        "              #print(line)\n",
        "              # Split the line\n",
        "              x_list = line[30:38]\n",
        "              y_list = line[38:46]\n",
        "              z_list = line[46:54]\n",
        "\n",
        "              x_str = ' '.join([str(elem) for elem in x_list]) \n",
        "              y_str = ' '.join([str(elem) for elem in y_list]) \n",
        "              z_str = ' '.join([str(elem) for elem in z_list]) \n",
        "              \n",
        "              x_str_no_space = x_str.replace(\" \", \"\")\n",
        "              y_str_no_space = y_str.replace(\" \", \"\")\n",
        "              z_str_no_space = z_str.replace(\" \", \"\")\n",
        "\n",
        "              x_float = float(x_str_no_space)\n",
        "              y_float = float(y_str_no_space)\n",
        "              z_float = float(z_str_no_space)\n",
        "\n",
        "              array.append((x_float,y_float,z_float))\n",
        "      mol_array.append(array)   \n",
        "      #print('x = '+str(x_float),'y = '+str(y_float), 'z = ' + str(z_float))\n"
      ],
      "execution_count": 0,
      "outputs": [
        {
          "output_type": "stream",
          "text": [
            "Get coords for molecule  1uwc.pdb\n",
            "Get coords for molecule  6fat.pdb\n"
          ],
          "name": "stdout"
        }
      ]
    },
    {
      "cell_type": "markdown",
      "metadata": {
        "id": "vXZUX6NU_Jgh",
        "colab_type": "text"
      },
      "source": [
        "## Calculate c-RMSD"
      ]
    },
    {
      "cell_type": "code",
      "metadata": {
        "id": "z1Hz4h01_G5q",
        "colab_type": "code",
        "outputId": "76895401-1c1d-40f2-d903-2be06d75a638",
        "colab": {
          "base_uri": "https://localhost:8080/",
          "height": 244
        }
      },
      "source": [
        "import numpy as np\n",
        "\n",
        "\n",
        "\n",
        "def euclidean_norm_power2(a,b):\n",
        "  dim = len(a)\n",
        "  assert(dim > 0)\n",
        "  assert(dim == len(b))\n",
        "  sum_sqrts = 0\n",
        "  for d in range(dim):\n",
        "    sum_sqrts += ((a[d] - b[d])*(a[d] - b[d]))\n",
        "  assert(sum_sqrts >= 0)\n",
        "  return sum_sqrts\n",
        "\n",
        "def cRMSD(listX,listY):\n",
        "  assert(len(listX) == len(listY))\n",
        "  n = len(listX)\n",
        "  assert(n > 0)\n",
        "  sum_atoms = 0\n",
        "  for ident in range(n):\n",
        "    x = listX[ident]\n",
        "    y = listY[ident]\n",
        "    sum_atoms += euclidean_norm_power2(x,y)\n",
        "  \n",
        "  return np.sqrt(sum_atoms/n)\n",
        "\n",
        "def getCentroid(atomsList):\n",
        "  sum_atoms = []\n",
        "  n = len(atomsList)\n",
        "  dims = len(atomsList[0])\n",
        "  for dim in range(dims):\n",
        "    sum_atoms.append(np.array([atom[dim] for atom in atomsList]).sum()/n)\n",
        "  return sum_atoms\n",
        "\n",
        "def translateOrigin(atomsList):\n",
        "  centroid = getCentroid(atomsList)\n",
        "  for x in atomsList:\n",
        "    for d in range(len(x)):\n",
        "      x[d] -= centroid[d]\n",
        "\n",
        "def GetImproved_cRMSD(X,Y):\n",
        "  translateOrigin(X)\n",
        "  translateOrigin(Y)\n",
        "  XY = np.matmul(X.transpose(),Y)\n",
        "  SVD = np.linalg.svd(XY)\n",
        "\n",
        "  U = SVD[0]\n",
        "  Sigma = SVD[1]\n",
        "  V = SVD[2]\n",
        "  print('============ U ============')\n",
        "  print(U)\n",
        "  print('============ Σ ============')\n",
        "  print(Sigma)\n",
        "  print('============ V ============')\n",
        "  print(V)\n",
        "  assert(U.shape == (3 , 3))\n",
        "  assert(Sigma.shape == (3,))\n",
        "  assert(V.shape == (3 , 3))\n",
        "  Q = np.matmul(U,V)\n",
        "\n",
        "  detQ = np.linalg.det(Q)\n",
        "  if detQ < 0:\n",
        "    U[2] = -U[2]\n",
        "    Q = np.matmul(U,V)\n",
        "    detQ = np.linalg.det(Q)\n",
        "    assert(detQ >= 0)\n",
        "  print('============ Q ============')\n",
        "  print(Q)\n",
        "\n",
        "  XQ = np.matmul(X,Q)\n",
        "  final = cRMSD(XQ,Y)\n",
        "  assert(final != float(\"inf\"))\n",
        "  assert(final != float(\"-inf\"))\n",
        "  assert(final >= 0)\n",
        "  return final\n",
        "\n",
        "\n",
        "print(len(mol_array[0]))\n",
        "print(len(mol_array[1]))\n",
        "out = GetImproved_cRMSD(np.array(mol_array[0]),np.array(mol_array[1]))\n",
        "print('\\n====================================\\nFINAL cRMSD SCORE = ',out)\n",
        "print('====================================')\n",
        "\n",
        "CONF.append(confA)\n",
        "CONF.append(confB)\n"
      ],
      "execution_count": 9,
      "outputs": [
        {
          "output_type": "error",
          "ename": "NameError",
          "evalue": "ignored",
          "traceback": [
            "\u001b[0;31m---------------------------------------------------------------------------\u001b[0m",
            "\u001b[0;31mNameError\u001b[0m                                 Traceback (most recent call last)",
            "\u001b[0;32m<ipython-input-9-ce6eb84b570b>\u001b[0m in \u001b[0;36m<module>\u001b[0;34m()\u001b[0m\n\u001b[1;32m     76\u001b[0m \u001b[0;34m\u001b[0m\u001b[0m\n\u001b[1;32m     77\u001b[0m \u001b[0;34m\u001b[0m\u001b[0m\n\u001b[0;32m---> 78\u001b[0;31m \u001b[0mprint\u001b[0m\u001b[0;34m(\u001b[0m\u001b[0mlen\u001b[0m\u001b[0;34m(\u001b[0m\u001b[0mmol_array\u001b[0m\u001b[0;34m[\u001b[0m\u001b[0;36m0\u001b[0m\u001b[0;34m]\u001b[0m\u001b[0;34m)\u001b[0m\u001b[0;34m)\u001b[0m\u001b[0;34m\u001b[0m\u001b[0;34m\u001b[0m\u001b[0m\n\u001b[0m\u001b[1;32m     79\u001b[0m \u001b[0mprint\u001b[0m\u001b[0;34m(\u001b[0m\u001b[0mlen\u001b[0m\u001b[0;34m(\u001b[0m\u001b[0mmol_array\u001b[0m\u001b[0;34m[\u001b[0m\u001b[0;36m1\u001b[0m\u001b[0;34m]\u001b[0m\u001b[0;34m)\u001b[0m\u001b[0;34m)\u001b[0m\u001b[0;34m\u001b[0m\u001b[0;34m\u001b[0m\u001b[0m\n\u001b[1;32m     80\u001b[0m \u001b[0mout\u001b[0m \u001b[0;34m=\u001b[0m \u001b[0mGetImproved_cRMSD\u001b[0m\u001b[0;34m(\u001b[0m\u001b[0mnp\u001b[0m\u001b[0;34m.\u001b[0m\u001b[0marray\u001b[0m\u001b[0;34m(\u001b[0m\u001b[0mmol_array\u001b[0m\u001b[0;34m[\u001b[0m\u001b[0;36m0\u001b[0m\u001b[0;34m]\u001b[0m\u001b[0;34m)\u001b[0m\u001b[0;34m,\u001b[0m\u001b[0mnp\u001b[0m\u001b[0;34m.\u001b[0m\u001b[0marray\u001b[0m\u001b[0;34m(\u001b[0m\u001b[0mmol_array\u001b[0m\u001b[0;34m[\u001b[0m\u001b[0;36m1\u001b[0m\u001b[0;34m]\u001b[0m\u001b[0;34m)\u001b[0m\u001b[0;34m)\u001b[0m\u001b[0;34m\u001b[0m\u001b[0;34m\u001b[0m\u001b[0m\n",
            "\u001b[0;31mNameError\u001b[0m: name 'mol_array' is not defined"
          ]
        }
      ]
    },
    {
      "cell_type": "markdown",
      "metadata": {
        "id": "fvhCEeP1wwFa",
        "colab_type": "text"
      },
      "source": [
        "## Construct Cayley-Menger (border) matrix B"
      ]
    },
    {
      "cell_type": "code",
      "metadata": {
        "id": "fIMyp9xa4GU4",
        "colab_type": "code",
        "colab": {
          "base_uri": "https://localhost:8080/",
          "height": 55
        },
        "outputId": "b3bbf895-7dce-47d4-fbee-4a8cdab0db7d"
      },
      "source": [
        "with open('atom_coords.txt',mode='r',encoding='utf-8-sig') as f:\n",
        "  data = f.readlines()\n",
        "atoms = []\n",
        "for line in data:\n",
        "  x,y,z = line.split()\n",
        "  atoms.append( (float(x),float(y),float(z)))\n",
        "print(atoms)"
      ],
      "execution_count": 66,
      "outputs": [
        {
          "output_type": "stream",
          "text": [
            "[(19.456, 43.867, 53.82), (19.12, 44.932, 52.867), (19.18, 46.289, 53.576), (20.251, 47.037, 53.302), (20.462, 48.366, 53.881), (19.599, 49.411, 53.172), (18.326, 49.468, 53.563), (17.345, 50.411, 52.999), (16.733, 51.352, 54.051)]\n"
          ],
          "name": "stdout"
        }
      ]
    },
    {
      "cell_type": "code",
      "metadata": {
        "id": "FhZ2mNnNw2dr",
        "colab_type": "code",
        "colab": {
          "base_uri": "https://localhost:8080/",
          "height": 399
        },
        "outputId": "06cfec5f-b237-4b56-f2bf-3d67738184ab"
      },
      "source": [
        "import numpy as np\n",
        "def BorderMatrix(atoms):\n",
        "  num_atoms = len(atoms)\n",
        "  array = -1 * np.ones(shape=(num_atoms+1,num_atoms+1))\n",
        "  #print(array)\n",
        "  for row in range(num_atoms+1):\n",
        "    for col in range(num_atoms+1):\n",
        "      if row == col:\n",
        "        array[row,col] = 0\n",
        "      elif row == 0 or col == 0:\n",
        "        array[row,col] = 1 \n",
        "      elif array[col,row] == -1:\n",
        "        p1 = atoms[row-1]\n",
        "        p2 = atoms[col-1]\n",
        "        array[row,col] =  array[col,row] = 0.5* euclidean_norm_power2(p1,p2)\n",
        "        \n",
        "  assert(array.all() >= 0)\n",
        "  return array\n",
        "\n",
        "B = BorderMatrix(atoms)\n",
        "print(B)\n",
        "rank = np.linalg.matrix_rank(B)\n",
        "assert(rank==5)\n",
        "print('Border Matrix Rank = ',rank)\n"
      ],
      "execution_count": 70,
      "outputs": [
        {
          "output_type": "stream",
          "text": [
            "[[ 0.         1.         1.         1.         1.         1.\n",
            "   1.         1.         1.         1.       ]\n",
            " [ 1.         0.         1.077665   3.000898   5.4746245 10.628379\n",
            "  15.5881445 16.357075  23.977149  31.7466575]\n",
            " [ 1.         1.077665   0.         1.173865   2.9497055  7.310758\n",
            "  10.1919535 10.845074  16.593745  24.1580125]\n",
            " [ 1.         3.000898   1.173865   0.         0.8908105  3.025239\n",
            "   5.0428305  5.417763  10.345519  15.9237015]\n",
            " [ 1.         5.4746245  2.9497055  0.8908105  0.         1.0730015\n",
            "   3.03894    4.8417535  9.9602605 15.778275 ]\n",
            " [ 1.        10.628379   7.310758   3.025239   1.0730015  0.\n",
            "   1.1697375  2.939012   7.337819  11.4252685]\n",
            " [ 1.        15.5881445 10.1919535  5.0428305  3.03894    1.1697375\n",
            "   0.         0.8883295  3.0552225  6.377039 ]\n",
            " [ 1.        16.357075  10.845074   5.417763   4.8417535  2.939012\n",
            "   0.8883295  0.         1.084853   3.1626245]\n",
            " [ 1.        23.977149  16.593745  10.345519   9.9602605  7.337819\n",
            "   3.0552225  1.084853   0.         1.1833645]\n",
            " [ 1.        31.7466575 24.1580125 15.9237015 15.778275  11.4252685\n",
            "   6.377039   3.1626245  1.1833645  0.       ]]\n",
            "Border Matrix Rank =  5\n"
          ],
          "name": "stdout"
        }
      ]
    }
  ]
}