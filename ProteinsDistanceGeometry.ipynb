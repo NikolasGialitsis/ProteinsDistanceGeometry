{
  "nbformat": 4,
  "nbformat_minor": 0,
  "metadata": {
    "colab": {
      "name": "ProteinsDistanceGeometry.ipynb",
      "provenance": [],
      "collapsed_sections": [],
      "toc_visible": true,
      "authorship_tag": "ABX9TyN93CZFIyLX9OonVBdx2EiK",
      "include_colab_link": true
    },
    "kernelspec": {
      "name": "python3",
      "display_name": "Python 3"
    }
  },
  "cells": [
    {
      "cell_type": "markdown",
      "metadata": {
        "id": "view-in-github",
        "colab_type": "text"
      },
      "source": [
        "<a href=\"https://colab.research.google.com/github/NikolasGialitsis/ProteinsDistanceGeometry/blob/master/ProteinsDistanceGeometry.ipynb\" target=\"_parent\"><img src=\"https://colab.research.google.com/assets/colab-badge.svg\" alt=\"Open In Colab\"/></a>"
      ]
    },
    {
      "cell_type": "markdown",
      "metadata": {
        "id": "po_4-2B8-TkF",
        "colab_type": "text"
      },
      "source": [
        "## PDB coords extraction"
      ]
    },
    {
      "cell_type": "code",
      "metadata": {
        "id": "3aZht7Pd-QjV",
        "colab_type": "code",
        "outputId": "333d1216-1e0b-4685-dfda-c99f8d046334",
        "colab": {
          "base_uri": "https://localhost:8080/",
          "height": 262
        }
      },
      "source": [
        "Xtrain_coords = []\n",
        "model_num = 1\n",
        "molecules = ['1uwc.pdb','6fat.pdb']\n",
        "mol_array = []\n",
        "for mol in molecules:\n",
        "  print('Get coords for molecule ',mol)\n",
        "  array = []\n",
        "  with open(mol) as pdbfile:\n",
        "      for line in pdbfile:\n",
        "          #print(line)\n",
        "          if line[:5] == 'MODEL':\n",
        "            print('Parsing  Molecule '+str(model_num))\n",
        "            model_num = model_num + 1\n",
        "            mol1 = []\n",
        "          elif line[:4] == 'ATOM':\n",
        "              #print(line)\n",
        "              # Split the line\n",
        "              x_list = line[30:38]\n",
        "              y_list = line[38:46]\n",
        "              z_list = line[46:54]\n",
        "\n",
        "              x_str = ' '.join([str(elem) for elem in x_list]) \n",
        "              y_str = ' '.join([str(elem) for elem in y_list]) \n",
        "              z_str = ' '.join([str(elem) for elem in z_list]) \n",
        "              \n",
        "              x_str_no_space = x_str.replace(\" \", \"\")\n",
        "              y_str_no_space = y_str.replace(\" \", \"\")\n",
        "              z_str_no_space = z_str.replace(\" \", \"\")\n",
        "\n",
        "              x_float = float(x_str_no_space)\n",
        "              y_float = float(y_str_no_space)\n",
        "              z_float = float(z_str_no_space)\n",
        "\n",
        "              array.append((x_float,y_float,z_float))\n",
        "      mol_array.append(array)   \n",
        "      #print('x = '+str(x_float),'y = '+str(y_float), 'z = ' + str(z_float))\n"
      ],
      "execution_count": 4,
      "outputs": [
        {
          "output_type": "stream",
          "text": [
            "Get coords for molecule  1uwc.pdb\n"
          ],
          "name": "stdout"
        },
        {
          "output_type": "error",
          "ename": "FileNotFoundError",
          "evalue": "ignored",
          "traceback": [
            "\u001b[0;31m---------------------------------------------------------------------------\u001b[0m",
            "\u001b[0;31mFileNotFoundError\u001b[0m                         Traceback (most recent call last)",
            "\u001b[0;32m<ipython-input-4-2574a6a8b311>\u001b[0m in \u001b[0;36m<module>\u001b[0;34m()\u001b[0m\n\u001b[1;32m      6\u001b[0m   \u001b[0mprint\u001b[0m\u001b[0;34m(\u001b[0m\u001b[0;34m'Get coords for molecule '\u001b[0m\u001b[0;34m,\u001b[0m\u001b[0mmol\u001b[0m\u001b[0;34m)\u001b[0m\u001b[0;34m\u001b[0m\u001b[0;34m\u001b[0m\u001b[0m\n\u001b[1;32m      7\u001b[0m   \u001b[0marray\u001b[0m \u001b[0;34m=\u001b[0m \u001b[0;34m[\u001b[0m\u001b[0;34m]\u001b[0m\u001b[0;34m\u001b[0m\u001b[0;34m\u001b[0m\u001b[0m\n\u001b[0;32m----> 8\u001b[0;31m   \u001b[0;32mwith\u001b[0m \u001b[0mopen\u001b[0m\u001b[0;34m(\u001b[0m\u001b[0mmol\u001b[0m\u001b[0;34m)\u001b[0m \u001b[0;32mas\u001b[0m \u001b[0mpdbfile\u001b[0m\u001b[0;34m:\u001b[0m\u001b[0;34m\u001b[0m\u001b[0;34m\u001b[0m\u001b[0m\n\u001b[0m\u001b[1;32m      9\u001b[0m       \u001b[0;32mfor\u001b[0m \u001b[0mline\u001b[0m \u001b[0;32min\u001b[0m \u001b[0mpdbfile\u001b[0m\u001b[0;34m:\u001b[0m\u001b[0;34m\u001b[0m\u001b[0;34m\u001b[0m\u001b[0m\n\u001b[1;32m     10\u001b[0m           \u001b[0;31m#print(line)\u001b[0m\u001b[0;34m\u001b[0m\u001b[0;34m\u001b[0m\u001b[0;34m\u001b[0m\u001b[0m\n",
            "\u001b[0;31mFileNotFoundError\u001b[0m: [Errno 2] No such file or directory: '1uwc.pdb'"
          ]
        }
      ]
    },
    {
      "cell_type": "markdown",
      "metadata": {
        "id": "vXZUX6NU_Jgh",
        "colab_type": "text"
      },
      "source": [
        "## Calculate c-RMSD"
      ]
    },
    {
      "cell_type": "code",
      "metadata": {
        "id": "z1Hz4h01_G5q",
        "colab_type": "code",
        "colab": {}
      },
      "source": [
        "import numpy as np\n",
        "\n",
        "\n",
        "\n",
        "def euclidean_norm_power2(a,b):\n",
        "  dim = len(a)\n",
        "  assert(dim > 0)\n",
        "  assert(dim == len(b))\n",
        "  sum_sqrts = 0\n",
        "  for d in range(dim):\n",
        "    sum_sqrts += ((a[d] - b[d])*(a[d] - b[d]))\n",
        "  assert(sum_sqrts >= 0)\n",
        "  return sum_sqrts\n",
        "\n",
        "def cRMSD(listX,listY):\n",
        "  assert(len(listX) == len(listY))\n",
        "  n = len(listX)\n",
        "  assert(n > 0)\n",
        "  sum_atoms = 0\n",
        "  for ident in range(n):\n",
        "    x = listX[ident]\n",
        "    y = listY[ident]\n",
        "    sum_atoms += euclidean_norm_power2(x,y)\n",
        "  \n",
        "  return np.sqrt(sum_atoms/n)\n",
        "\n",
        "def getCentroid(atomsList):\n",
        "  sum_atoms = []\n",
        "  n = len(atomsList)\n",
        "  dims = len(atomsList[0])\n",
        "  for dim in range(dims):\n",
        "    sum_atoms.append(np.array([atom[dim] for atom in atomsList]).sum()/n)\n",
        "  return sum_atoms\n",
        "\n",
        "def translateOrigin(atomsList):\n",
        "  centroid = getCentroid(atomsList)\n",
        "  for x in atomsList:\n",
        "    for d in range(len(x)):\n",
        "      x[d] -= centroid[d]\n",
        "\n",
        "def GetImproved_cRMSD(X,Y):\n",
        "  translateOrigin(X)\n",
        "  translateOrigin(Y)\n",
        "  XY = np.matmul(X.transpose(),Y)\n",
        "  SVD = np.linalg.svd(XY)\n",
        "\n",
        "  U = SVD[0]\n",
        "  Sigma = SVD[1]\n",
        "  V = SVD[2]\n",
        "\n",
        "\n",
        "  Q = np.matmul(U,V)\n",
        "\n",
        "  detQ = np.linalg.det(Q)\n",
        "  if detQ < 0:\n",
        "    U[2] = -U[2]\n",
        "    Q = np.matmul(U,V)\n",
        "    detQ = np.linalg.det(Q)\n",
        "    assert(detQ >= 0)\n",
        "\n",
        "  XQ = np.matmul(X,Q)\n",
        "  final = cRMSD(XQ,Y)\n",
        "  assert(final != float(\"inf\"))\n",
        "  assert(final != float(\"-inf\"))\n",
        "  assert(final >= 0)\n",
        "  return final\n",
        "\n"
      ],
      "execution_count": 0,
      "outputs": []
    },
    {
      "cell_type": "markdown",
      "metadata": {
        "id": "fvhCEeP1wwFa",
        "colab_type": "text"
      },
      "source": [
        "## (C) construct Cayley-Menger (border) matrix B\n",
        "Select 3 residues at the calcium binding site namely Val276-Ala277-Asp278 in the 3D\n",
        "structure of Feruloyl esterase with PDB code 6FAT. Consider only their 3 backbone atoms\n",
        "(smallest indices) namely atoms N, Ca, C of each, as points with 3D coordinates. Construct\n",
        "the corresponding Cayley-Menger (border) matrix B of dimension 10x10."
      ]
    },
    {
      "cell_type": "code",
      "metadata": {
        "id": "fIMyp9xa4GU4",
        "colab_type": "code",
        "outputId": "d2362bf6-d755-4f07-eaa1-606b72726eab",
        "colab": {
          "base_uri": "https://localhost:8080/",
          "height": 55
        }
      },
      "source": [
        "with open('atom_coords.txt',mode='r',encoding='utf-8-sig') as f:\n",
        "  data = f.readlines()\n",
        "atoms = []\n",
        "for line in data:\n",
        "  x,y,z = line.split()\n",
        "  atoms.append( (float(x),float(y),float(z)))\n",
        "print(atoms)"
      ],
      "execution_count": 6,
      "outputs": [
        {
          "output_type": "stream",
          "text": [
            "[(19.456, 43.867, 53.82), (19.12, 44.932, 52.867), (19.18, 46.289, 53.576), (20.251, 47.037, 53.302), (20.462, 48.366, 53.881), (19.599, 49.411, 53.172), (18.326, 49.468, 53.563), (17.345, 50.411, 52.999), (16.733, 51.352, 54.051)]\n"
          ],
          "name": "stdout"
        }
      ]
    },
    {
      "cell_type": "code",
      "metadata": {
        "id": "FhZ2mNnNw2dr",
        "colab_type": "code",
        "outputId": "6a176859-d422-4c66-c4ce-a7c9561e7512",
        "colab": {
          "base_uri": "https://localhost:8080/",
          "height": 199
        }
      },
      "source": [
        "import numpy as np\n",
        "def BorderMatrix(atoms):\n",
        "  num_atoms = len(atoms)\n",
        "  array = -1 * np.ones(shape=(num_atoms+1,num_atoms+1))\n",
        "  #print(array)\n",
        "  for row in range(num_atoms+1):\n",
        "    for col in range(num_atoms+1):\n",
        "      if row == col:\n",
        "        array[row,col] = 0\n",
        "      elif row == 0 or col == 0:\n",
        "        array[row,col] = 1 \n",
        "      elif array[col,row] == -1:\n",
        "        p1 = atoms[row-1]\n",
        "        p2 = atoms[col-1]\n",
        "        array[row,col] =  array[col,row] = 0.5* euclidean_norm_power2(p1,p2)\n",
        "        \n",
        "  assert(array.all() >= 0)\n",
        "  return array\n",
        "\n",
        "B = BorderMatrix(atoms)\n",
        "for line in B.round(1):\n",
        "  print(line)\n"
      ],
      "execution_count": 8,
      "outputs": [
        {
          "output_type": "stream",
          "text": [
            "[0. 1. 1. 1. 1. 1. 1. 1. 1. 1.]\n",
            "[ 1.   0.   1.1  3.   5.5 10.6 15.6 16.4 24.  31.7]\n",
            "[ 1.   1.1  0.   1.2  2.9  7.3 10.2 10.8 16.6 24.2]\n",
            "[ 1.   3.   1.2  0.   0.9  3.   5.   5.4 10.3 15.9]\n",
            "[ 1.   5.5  2.9  0.9  0.   1.1  3.   4.8 10.  15.8]\n",
            "[ 1.  10.6  7.3  3.   1.1  0.   1.2  2.9  7.3 11.4]\n",
            "[ 1.  15.6 10.2  5.   3.   1.2  0.   0.9  3.1  6.4]\n",
            "[ 1.  16.4 10.8  5.4  4.8  2.9  0.9  0.   1.1  3.2]\n",
            "[ 1.  24.  16.6 10.3 10.   7.3  3.1  1.1  0.   1.2]\n",
            "[ 1.  31.7 24.2 15.9 15.8 11.4  6.4  3.2  1.2  0. ]\n"
          ],
          "name": "stdout"
        }
      ]
    },
    {
      "cell_type": "markdown",
      "metadata": {
        "id": "VIgrd_jG-REx",
        "colab_type": "text"
      },
      "source": [
        "## D) Gram Matrix, SVD\n",
        " Check that rank(B)=5. Compute the Gram matrix G, and its SVD so as to get 3D point\n",
        "coordinates. Check if it is the same structure, by computing its c-RMSD to (c).\n"
      ]
    },
    {
      "cell_type": "code",
      "metadata": {
        "id": "AgqNNvTG-kfn",
        "colab_type": "code",
        "outputId": "0c2483f1-39e5-43c4-ee01-e6c96f208fa8",
        "colab": {
          "base_uri": "https://localhost:8080/",
          "height": 35
        }
      },
      "source": [
        "rank = np.linalg.matrix_rank(B)\n",
        "print('Border Matrix Rank = ',rank)\n",
        "assert(rank==5)"
      ],
      "execution_count": 9,
      "outputs": [
        {
          "output_type": "stream",
          "text": [
            "Border Matrix Rank =  5\n"
          ],
          "name": "stdout"
        }
      ]
    },
    {
      "cell_type": "code",
      "metadata": {
        "id": "z0RHT5oD-lc6",
        "colab_type": "code",
        "colab": {}
      },
      "source": [
        "import numpy as np\n",
        "\n",
        "def GramMatrix(B):\n",
        "  n_rows,n_cols = B.shape\n",
        "  G = np.zeros(shape=(n_rows-1,n_cols-1))\n",
        "  o = 2 #origin\n",
        "  for i in range(n_rows-1):\n",
        "    for j in range(n_cols-1):\n",
        "      G[i,j] = G[j,i] = B[i+1,o] - B[i+1,j+1] + B[j+1,o]\n",
        "  return G\n",
        "\n",
        "\n"
      ],
      "execution_count": 0,
      "outputs": []
    },
    {
      "cell_type": "markdown",
      "metadata": {
        "id": "NJEAyIbEqmlR",
        "colab_type": "text"
      },
      "source": [
        " Check if it is the same structure, by computing its c-RMSD to (c).\n"
      ]
    },
    {
      "cell_type": "code",
      "metadata": {
        "id": "srJSDr0-cUZ1",
        "colab_type": "code",
        "outputId": "87f04c76-9c68-4565-d846-fa5974e5b0c6",
        "colab": {
          "base_uri": "https://localhost:8080/",
          "height": 217
        }
      },
      "source": [
        "def getCoordsFromG(G):\n",
        "\n",
        "  _,Sigma,V = np.linalg.svd(G)\n",
        "  np.matrix.sort(Sigma) #sort ascending order\n",
        "  Sigma = Sigma[::-1] #reverse array so that it is in descending order\n",
        "  Sigma[3:] = 0\n",
        "  Sigma = np.sqrt(np.array(Sigma))\n",
        "  V = np.array(V)\n",
        "  P = Sigma*V.transpose()\n",
        "  P = P[:,:3]\n",
        "\n",
        "\n",
        "  return P\n",
        "\n",
        "G =  GramMatrix(B)\n",
        "print(G.round(1))\n",
        "\n",
        "P = getCoordsFromG(G)\n",
        "\n",
        "print('Rank of P = ',\\\n",
        "      np.linalg.matrix_rank(P))\n",
        "A = np.zeros(shape=(len(atoms),len(atoms[0])))\n",
        "for i in range(len(atoms)):\n",
        "  A[i,0],A[i,1],A[i,2] = atoms[i] \n",
        "\n",
        "print('cRMSD = ',GetImproved_cRMSD(P,A).round(1))"
      ],
      "execution_count": 80,
      "outputs": [
        {
          "output_type": "stream",
          "text": [
            "[[ 2.2  0.  -0.7 -1.4 -2.2 -4.3 -4.4 -6.3 -6.5]\n",
            " [ 0.   0.   0.   0.   0.   0.   0.   0.   0. ]\n",
            " [-0.7  0.   2.3  3.2  5.5  6.3  6.6  7.4  9.4]\n",
            " [-1.4  0.   3.2  5.9  9.2 10.1  9.   9.6 11.3]\n",
            " [-2.2  0.   5.5  9.2 14.6 16.3 15.2 16.6 20. ]\n",
            " [-4.3  0.   6.3 10.1 16.3 20.4 20.1 23.7 28. ]\n",
            " [-4.4  0.   6.6  9.  15.2 20.1 21.7 26.4 31.8]\n",
            " [-6.3  0.   7.4  9.6 16.6 23.7 26.4 33.2 39.6]\n",
            " [-6.5  0.   9.4 11.3 20.  28.  31.8 39.6 48.3]]\n",
            "Rank of P =  3\n",
            "cRMSD =  0.0\n"
          ],
          "name": "stdout"
        }
      ]
    },
    {
      "cell_type": "code",
      "metadata": {
        "id": "5vXHWnRfhMuY",
        "colab_type": "code",
        "colab": {
          "base_uri": "https://localhost:8080/",
          "height": 363
        },
        "outputId": "f167ea15-2a0b-4ce3-df78-3ea847d8f119"
      },
      "source": [
        "\n",
        "import random\n",
        "def GetPerturbedMatrix(B,perturb_percent):\n",
        "  B_perturbed = B.copy()\n",
        "  n_rows,n_cols = B_perturbed.shape\n",
        "  for row in range(n_rows):\n",
        "    for col in range(n_cols):\n",
        "      x = random.randint(1,2)\n",
        "      if x % 2 == 0:\n",
        "        B_perturbed[row,col] += perturb_percent *B_perturbed[row,col]\n",
        "      else:\n",
        "        B_perturbed[row,col] -= perturb_percent *B_perturbed[row,col]\n",
        "  return B_perturbed\n",
        "\n",
        "\n",
        "perturb_percent = 0\n",
        "rmsd=0\n",
        "perturb_mat  = []\n",
        "while(rmsd <= 1):\n",
        "  B_perturbed = GetPerturbedMatrix(B,perturb_percent)\n",
        "  G = GramMatrix(B_perturbed)\n",
        "  P = getCoordsFromG(G)\n",
        "  rmsd = GetImproved_cRMSD(P,A).round(1)\n",
        "  perturb_mat.append(perturb_percent)\n",
        "  perturb_percent+=0.01\n",
        "  print('Perturbation Percentage = %d%%'%(perturb_percent*100))\n",
        "  print('\\tc-RMSD =',rmsd.round(1))\n",
        "print('Max Perturbation = %d%%'%(perturb_mat[-1]*100))"
      ],
      "execution_count": 106,
      "outputs": [
        {
          "output_type": "stream",
          "text": [
            "Perturbation Percentage = 1%\n",
            "\tc-RMSD = 0.0\n",
            "Perturbation Percentage = 2%\n",
            "\tc-RMSD = 0.1\n",
            "Perturbation Percentage = 3%\n",
            "\tc-RMSD = 0.1\n",
            "Perturbation Percentage = 4%\n",
            "\tc-RMSD = 0.3\n",
            "Perturbation Percentage = 5%\n",
            "\tc-RMSD = 0.3\n",
            "Perturbation Percentage = 6%\n",
            "\tc-RMSD = 0.9\n",
            "Perturbation Percentage = 7%\n",
            "\tc-RMSD = 0.3\n",
            "Perturbation Percentage = 8%\n",
            "\tc-RMSD = 0.9\n",
            "Perturbation Percentage = 9%\n",
            "\tc-RMSD = 1.1\n",
            "Max Perturbation = 8%\n"
          ],
          "name": "stdout"
        }
      ]
    },
    {
      "cell_type": "code",
      "metadata": {
        "id": "LeBoOWRFrKkY",
        "colab_type": "code",
        "colab": {
          "base_uri": "https://localhost:8080/",
          "height": 313
        },
        "outputId": "d1e365bb-5599-425f-a15f-39cb98b38fad"
      },
      "source": [
        "import matplotlib.pyplot as plt\n",
        "\n",
        "def apply_cutoff(B,cutoff):\n",
        "  n_rows,n_cols = B.shape\n",
        "  B_cut = B.copy()\n",
        "  for row in range(n_rows):\n",
        "    new_row = []\n",
        "    for col in range(n_cols):    \n",
        "      if row > col:\n",
        "        if B[row,col] > cutoff:\n",
        "          B_cut[row,col] = B_cut[col,row] = cutoff\n",
        "\n",
        "  return B_cut\n",
        "\n",
        "rmsds = []\n",
        "cutoffs = []\n",
        "max_cutoff = 50\n",
        "min_th = -1\n",
        "for _ in range (int(max_cutoff/2)):\n",
        "  if len(cutoffs) == 0:\n",
        "    cutoffs.append(0)\n",
        "  else:\n",
        "    cutoffs.append(cutoffs[-1] + 2)\n",
        "  cutoff = cutoffs[-1]\n",
        "  B_cut = apply_cutoff(B,cutoff)\n",
        "  G = GramMatrix(B_cut)\n",
        "  P = getCoordsFromG(G)\n",
        "  rmsd = GetImproved_cRMSD(P,A)\n",
        "  rmsds.append(rmsd)\n",
        "\n",
        "  if rmsd < 1  and min_th < 0: \n",
        "    print('Min threshold for c-RMSD < 1 = %.2f'%cutoffs[-2])\n",
        "    min_th = cutoffs[-2]\n",
        "  elif rmsd > 1:\n",
        "    min_th = -1    \n",
        "  \n",
        "plt.figure(1)\n",
        "plt.title('Cutoff vs C-RMSD')\n",
        "plt.xlabel('Cutoff Threshold')\n",
        "plt.ylabel('C-RMSD')\n",
        "plt.plot(cutoffs,rmsds,label='c-RMSD tends to decrease as cutoff threshold increases')\n",
        "plt.plot([min_th]*11,np.arange(0,1.1,0.1).tolist(),'r',label='threshold at which c-RMSD < 1')\n",
        "plt.plot(np.arange(0,min_th+1,1).tolist(),[1]*(min_th+1),'r')\n",
        "plt.legend()\n",
        "plt.show()"
      ],
      "execution_count": 261,
      "outputs": [
        {
          "output_type": "stream",
          "text": [
            "Min threshold for c-RMSD < 1 = 30.00\n"
          ],
          "name": "stdout"
        },
        {
          "output_type": "display_data",
          "data": {
            "image/png": "[encoded data removed]",
            "text/plain": [
              "<Figure size 432x288 with 1 Axes>"
            ]
          },
          "metadata": {
            "tags": [],
            "needs_background": "light"
          }
        }
      ]
    }
  ]
}